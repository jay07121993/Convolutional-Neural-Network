{
 "cells": [
  {
   "cell_type": "code",
   "execution_count": 1,
   "metadata": {},
   "outputs": [
    {
     "name": "stderr",
     "output_type": "stream",
     "text": [
      "C:\\Users\\Devanshu\\Anaconda3\\envs\\cntk_env\\lib\\site-packages\\h5py\\__init__.py:34: FutureWarning: Conversion of the second argument of issubdtype from `float` to `np.floating` is deprecated. In future, it will be treated as `np.float64 == np.dtype(float).type`.\n",
      "  from ._conv import register_converters as _register_converters\n",
      "Using CNTK backend\n",
      "C:\\Users\\Devanshu\\Anaconda3\\envs\\cntk_env\\lib\\site-packages\\keras\\backend\\cntk_backend.py:21: UserWarning: CNTK backend warning: GPU is not detected. CNTK's CPU version is not fully optimized,please run with GPU to get better performance.\n",
      "  'CNTK backend warning: GPU is not detected. '\n"
     ]
    }
   ],
   "source": [
    "import pandas as pd\n",
    "import numpy as np\n",
    "import os\n",
    "from sklearn import preprocessing\n",
    "from sklearn import confusion_matrix\n",
    "from sklearn.model_selection import StratifiedKFold,KFold,ShuffleSplit\n",
    "import cntk as c\n",
    "import matplotlib.pyplot as plt\n",
    "from keras import backend as c\n",
    "from keras import layers\n",
    "from keras.models import Sequential\n",
    "from keras.layers.core import Dense, Dropout, Activation, Flatten\n",
    "from keras.layers.convolutional import Conv1D, MaxPooling1D\n",
    "from keras.optimizers import SGD, Adam\n",
    "from keras import regularizers"
   ]
  },
  {
   "cell_type": "code",
   "execution_count": 2,
   "metadata": {},
   "outputs": [
    {
     "name": "stdout",
     "output_type": "stream",
     "text": [
      "(144766, 40)\n",
      "(125973, 5)\n",
      "(18793, 5)\n"
     ]
    }
   ],
   "source": [
    "x_train= np.loadtxt('C:/Users/Devanshu/Desktop/faltu/data without misslabel/train_test_without_miss_normalize.csv', delimiter=',', dtype='float32')\n",
    "x_train_label= np.loadtxt('C:/Users/Devanshu/Desktop/faltu/data without misslabel/label_encoded_train.csv', delimiter=',', dtype='float32')\n",
    "x_test_label= np.loadtxt('C:/Users/Devanshu/Desktop/faltu/data without misslabel/label_encoded_test.csv', delimiter=',', dtype='float32')\n",
    "print(x_train.shape)\n",
    "print(x_train_label.shape)\n",
    "print(x_test_label.shape)"
   ]
  },
  {
   "cell_type": "code",
   "execution_count": 3,
   "metadata": {},
   "outputs": [
    {
     "name": "stdout",
     "output_type": "stream",
     "text": [
      "(125973, 40) (125973, 5) (18793, 40) (18793, 5)\n"
     ]
    }
   ],
   "source": [
    "train= x_train[0:125973,:]\n",
    "test= x_train[125973:,:]\n",
    "train_label= x_train_label\n",
    "test_label= x_test_label\n",
    "print(train.shape, train_label.shape,test.shape, test_label.shape)\n",
    "#print(train.shape, train_label.shape,test.shape)"
   ]
  },
  {
   "cell_type": "code",
   "execution_count": 4,
   "metadata": {
    "collapsed": true
   },
   "outputs": [],
   "source": [
    "train= train.reshape(125973,5,8)\n",
    "test= test.reshape(18793,5,8)\n",
    "input_dimension= 40"
   ]
  },
  {
   "cell_type": "code",
   "execution_count": 7,
   "metadata": {},
   "outputs": [
    {
     "name": "stdout",
     "output_type": "stream",
     "text": [
      "_________________________________________________________________\n",
      "Layer (type)                 Output Shape              Param #   \n",
      "=================================================================\n",
      "layer1 (Conv1D)              (None, 5, 32)             544       \n",
      "_________________________________________________________________\n",
      "flatten_3 (Flatten)          (None, 160)               0         \n",
      "_________________________________________________________________\n",
      "dense_5 (Dense)              (None, 128)               20608     \n",
      "_________________________________________________________________\n",
      "dropout_3 (Dropout)          (None, 128)               0         \n",
      "_________________________________________________________________\n",
      "dense_6 (Dense)              (None, 5)                 645       \n",
      "=================================================================\n",
      "Total params: 21,797\n",
      "Trainable params: 21,797\n",
      "Non-trainable params: 0\n",
      "_________________________________________________________________\n",
      "None\n",
      "Train on 100778 samples, validate on 25195 samples\n",
      "Epoch 1/4\n",
      "100778/100778 [==============================] - 39s 382us/step - loss: 0.6874 - acc: 0.9259 - val_loss: 0.2502 - val_acc: 0.9546\n",
      "Epoch 2/4\n",
      "100778/100778 [==============================] - 40s 398us/step - loss: 0.2087 - acc: 0.9587 - val_loss: 0.1762 - val_acc: 0.9639\n",
      "Epoch 3/4\n",
      "100778/100778 [==============================] - 42s 419us/step - loss: 0.1642 - acc: 0.9647 - val_loss: 0.1474 - val_acc: 0.9680\n",
      "Epoch 4/4\n",
      "100778/100778 [==============================] - 42s 414us/step - loss: 0.1426 - acc: 0.9672 - val_loss: 0.1312 - val_acc: 0.9705\n",
      "18793/18793 [==============================] - 2s 127us/step\n",
      "79.51896982982605\n"
     ]
    }
   ],
   "source": [
    "model1= Sequential()\n",
    "\n",
    "model1.add(Conv1D(strides=1, input_shape=(5, 8), padding=\"same\", activation=\"tanh\", filters=32, kernel_size=2, name=\"layer1\"))\n",
    "\n",
    "ly= model1.layers[0].get_weights()\n",
    "    \n",
    "model1.add(Flatten())\n",
    "\n",
    "model1.add(Dense(128, input_dim=input_dimension, activation='relu',kernel_regularizer=regularizers.l2(0.01)))\n",
    "model1.add(Dropout(0.2))\n",
    "model1.add(Dense(5, activation='softmax'))\n",
    "\n",
    "adam=Adam(lr=0.0001, beta_1=0.9, beta_2=0.999, epsilon=None, decay=0.0, amsgrad=False)\n",
    "\n",
    "model1.compile(loss='categorical_crossentropy', optimizer=adam, metrics=['acc'])\n",
    "\n",
    "print(model1.summary())\n",
    "\n",
    "model1.fit(train, train_label, epochs=4, batch_size=None,validation_split=0.2)\n",
    "\n",
    "#model1.save_weights('C:/Users/Devanshu/Desktop/faltu/model_saved/weights1.hdf5')\n",
    "\n",
    "scores= model1.evaluate(test,test_label)\n",
    "print(scores[1]*100)"
   ]
  },
  {
   "cell_type": "code",
   "execution_count": 8,
   "metadata": {},
   "outputs": [
    {
     "name": "stdout",
     "output_type": "stream",
     "text": [
      "_________________________________________________________________\n",
      "Layer (type)                 Output Shape              Param #   \n",
      "=================================================================\n",
      "layer1 (Conv1D)              (None, 5, 32)             544       \n",
      "_________________________________________________________________\n",
      "max_pooling1d_1 (MaxPooling1 (None, 5, 32)             0         \n",
      "_________________________________________________________________\n",
      "layer2 (Conv1D)              (None, 5, 16)             528       \n",
      "_________________________________________________________________\n",
      "flatten_4 (Flatten)          (None, 80)                0         \n",
      "_________________________________________________________________\n",
      "dense_7 (Dense)              (None, 128)               10368     \n",
      "_________________________________________________________________\n",
      "dropout_4 (Dropout)          (None, 128)               0         \n",
      "_________________________________________________________________\n",
      "dense_8 (Dense)              (None, 5)                 645       \n",
      "=================================================================\n",
      "Total params: 12,085\n",
      "Trainable params: 12,085\n",
      "Non-trainable params: 0\n",
      "_________________________________________________________________\n",
      "None\n",
      "Train on 100778 samples, validate on 25195 samples\n",
      "Epoch 1/4\n",
      "100778/100778 [==============================] - 39s 389us/step - loss: 0.6286 - acc: 0.9184 - val_loss: 0.2524 - val_acc: 0.9477\n",
      "Epoch 2/4\n",
      "100778/100778 [==============================] - 43s 423us/step - loss: 0.2014 - acc: 0.9580 - val_loss: 0.1628 - val_acc: 0.9651\n",
      "Epoch 3/4\n",
      "100778/100778 [==============================] - 41s 402us/step - loss: 0.1484 - acc: 0.9670 - val_loss: 0.1313 - val_acc: 0.9702\n",
      "Epoch 4/4\n",
      "100778/100778 [==============================] - 39s 386us/step - loss: 0.1258 - acc: 0.9705 - val_loss: 0.1147 - val_acc: 0.9731\n",
      "18793/18793 [==============================] - 3s 137us/step\n",
      "79.14649071526212\n"
     ]
    }
   ],
   "source": [
    "model2= Sequential()\n",
    "\n",
    "\n",
    "m1= model2.add(Conv1D(strides=1, input_shape=(5, 8), padding=\"same\", activation=\"tanh\", filters=32, kernel_size=2, name=\"layer1\"))\n",
    "model2.layers[0].set_weights(ly)\n",
    "\n",
    "model2.add(MaxPooling1D(pool_size=1, strides=None, padding='same'))\n",
    "\n",
    "model2.add(Conv1D(strides=1, padding=\"same\", activation=\"tanh\", filters=16, kernel_size=1, name=\"layer2\"))\n",
    "ly2= model2.layers[2].get_weights()\n",
    "    \n",
    "model2.add(Flatten())\n",
    "\n",
    "model2.add(Dense(128, input_dim=input_dimension, activation='relu',kernel_regularizer=regularizers.l2(0.01)))\n",
    "model2.add(Dropout(0.2))\n",
    "model2.add(Dense(5, activation='softmax'))\n",
    "\n",
    "adam=Adam(lr=0.0001, beta_1=0.9, beta_2=0.999, epsilon=None, decay=0.0, amsgrad=False)\n",
    "\n",
    "model2.compile(loss='categorical_crossentropy', optimizer=adam, metrics=['acc'])\n",
    "\n",
    "print(model2.summary())\n",
    "\n",
    "model2.fit(train, train_label, epochs=4, batch_size=None, validation_split=0.2)\n",
    "\n",
    "#model1.save_weights('C:/Users/Devanshu/Desktop/faltu/model_saved/weights1.hdf5')\n",
    "\n",
    "scores= model2.evaluate(test,test_label)\n",
    "print(scores[1]*100)"
   ]
  },
  {
   "cell_type": "code",
   "execution_count": 9,
   "metadata": {},
   "outputs": [
    {
     "name": "stdout",
     "output_type": "stream",
     "text": [
      "_________________________________________________________________\n",
      "Layer (type)                 Output Shape              Param #   \n",
      "=================================================================\n",
      "layer1 (Conv1D)              (None, 5, 32)             544       \n",
      "_________________________________________________________________\n",
      "max_pooling1d_2 (MaxPooling1 (None, 5, 32)             0         \n",
      "_________________________________________________________________\n",
      "layer2 (Conv1D)              (None, 5, 16)             528       \n",
      "_________________________________________________________________\n",
      "dropout_5 (Dropout)          (None, 5, 16)             0         \n",
      "_________________________________________________________________\n",
      "layer3 (Conv1D)              (None, 5, 8)              136       \n",
      "_________________________________________________________________\n",
      "max_pooling1d_3 (MaxPooling1 (None, 5, 8)              0         \n",
      "_________________________________________________________________\n",
      "flatten_5 (Flatten)          (None, 40)                0         \n",
      "_________________________________________________________________\n",
      "dense_9 (Dense)              (None, 128)               5248      \n",
      "_________________________________________________________________\n",
      "dropout_6 (Dropout)          (None, 128)               0         \n",
      "_________________________________________________________________\n",
      "dense_10 (Dense)             (None, 5)                 645       \n",
      "=================================================================\n",
      "Total params: 7,101\n",
      "Trainable params: 7,101\n",
      "Non-trainable params: 0\n",
      "_________________________________________________________________\n",
      "None\n",
      "Train on 100778 samples, validate on 25195 samples\n",
      "Epoch 1/2\n",
      "100778/100778 [==============================] - 44s 439us/step - loss: 0.5959 - acc: 0.9073 - val_loss: 0.2646 - val_acc: 0.9546\n",
      "Epoch 2/2\n",
      "100778/100778 [==============================] - 45s 444us/step - loss: 0.2183 - acc: 0.9551 - val_loss: 0.1681 - val_acc: 0.9632\n",
      "18793/18793 [==============================] - 3s 182us/step\n",
      "80.45016761623587\n"
     ]
    }
   ],
   "source": [
    "model3= Sequential()\n",
    "\n",
    "\n",
    "m1= model3.add(Conv1D(strides=1, input_shape=(5, 8), padding=\"same\", activation=\"tanh\", filters=32, kernel_size=2, name=\"layer1\"))\n",
    "model3.layers[0].set_weights(ly)\n",
    "\n",
    "model3.add(MaxPooling1D(pool_size=1, strides=None, padding='same'))\n",
    "\n",
    "model3.add(Conv1D(strides=1, padding=\"same\", activation=\"tanh\", filters=16, kernel_size=1, name=\"layer2\"))\n",
    "model3.layers[2].set_weights(ly2)\n",
    "    \n",
    "model3.add(Dropout(0.2))\n",
    "\n",
    "model3.add(Conv1D(strides=1, padding=\"same\", activation=\"tanh\", filters=8, kernel_size=1,name=\"layer3\"))\n",
    "ly3= model3.layers[4].get_weights()\n",
    "\n",
    "model3.add(MaxPooling1D(pool_size=1, strides=None, padding='same'))\n",
    "    \n",
    "model3.add(Flatten())\n",
    "\n",
    "model3.add(Dense(128, input_dim=input_dimension, activation='relu',kernel_regularizer=regularizers.l2(0.01)))\n",
    "model3.add(Dropout(0.2))\n",
    "model3.add(Dense(5, activation='softmax'))\n",
    "\n",
    "adam=Adam(lr=0.0001, beta_1=0.9, beta_2=0.999, epsilon=None, decay=0.0, amsgrad=False)\n",
    "\n",
    "model3.compile(loss='categorical_crossentropy', optimizer=adam, metrics=['acc'])\n",
    "\n",
    "print(model3.summary())\n",
    "\n",
    "model3.fit(train, train_label, epochs=2, batch_size=None, verbose=1, validation_split=0.2)\n",
    "\n",
    "#model1.save_weights('C:/Users/Devanshu/Desktop/faltu/model_saved/weights1.hdf5')\n",
    "\n",
    "scores= model3.evaluate(test,test_label)\n",
    "print(scores[1]*100)"
   ]
  },
  {
   "cell_type": "code",
   "execution_count": 11,
   "metadata": {},
   "outputs": [
    {
     "data": {
      "text/plain": [
       "array([[9.93846118e-01, 1.72786962e-03, 4.13719751e-03, 1.71926629e-04,\n",
       "        1.16946736e-04],\n",
       "       [9.79879558e-01, 7.07632070e-03, 1.23100253e-02, 4.71393345e-04,\n",
       "        2.62731453e-04],\n",
       "       [3.34519744e-02, 9.13971722e-01, 4.05859798e-02, 1.02462014e-02,\n",
       "        1.74406567e-03],\n",
       "       ...,\n",
       "       [1.07356384e-02, 9.86730456e-01, 3.06433329e-04, 1.98092149e-03,\n",
       "        2.46530137e-04],\n",
       "       [1.38529930e-02, 9.83350694e-01, 3.30719078e-04, 2.18285434e-03,\n",
       "        2.82797031e-04],\n",
       "       [1.40383812e-02, 9.84393179e-01, 7.40309828e-04, 6.63856335e-04,\n",
       "        1.64149635e-04]], dtype=float32)"
      ]
     },
     "execution_count": 11,
     "metadata": {},
     "output_type": "execute_result"
    }
   ],
   "source": [
    "model2.predict(test)"
   ]
  },
  {
   "cell_type": "code",
   "execution_count": null,
   "metadata": {
    "collapsed": true
   },
   "outputs": [],
   "source": []
  }
 ],
 "metadata": {
  "kernelspec": {
   "display_name": "Python 3",
   "language": "python",
   "name": "python3"
  },
  "language_info": {
   "codemirror_mode": {
    "name": "ipython",
    "version": 3
   },
   "file_extension": ".py",
   "mimetype": "text/x-python",
   "name": "python",
   "nbconvert_exporter": "python",
   "pygments_lexer": "ipython3",
   "version": "3.6.1"
  }
 },
 "nbformat": 4,
 "nbformat_minor": 2
}
